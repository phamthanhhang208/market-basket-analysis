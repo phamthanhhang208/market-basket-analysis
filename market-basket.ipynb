{
 "cells": [
  {
   "cell_type": "markdown",
   "metadata": {},
   "source": [
    "# Applying Apirori for Market-Basket Analysis"
   ]
  },
  {
   "cell_type": "markdown",
   "metadata": {},
   "source": [
    "The Apriori algorithm was proposed by Agrawal and Srikant in 1994.\n",
    "There are three major components of the Apriori algorithm:\n",
    "\n",
    "1) Support\n",
    "\n",
    "2) Confidence\n",
    "\n",
    "3) Lift"
   ]
  },
  {
   "cell_type": "markdown",
   "metadata": {},
   "source": [
    "## Support"
   ]
  },
  {
   "cell_type": "markdown",
   "metadata": {},
   "source": [
    "Support refers to the popularity of item and can be calculated by finding the number of transactions containing a particular item divided by the total number of transactions."
   ]
  },
  {
   "cell_type": "markdown",
   "metadata": {},
   "source": [
    "#### Example:"
   ]
  },
  {
   "cell_type": "markdown",
   "metadata": {},
   "source": [
    "Support(diaper) = (Transactions containing (diaper))/(Total Transactions)\n",
    "Support(diaper) = 150 / 1000 = 15 %"
   ]
  },
  {
   "cell_type": "markdown",
   "metadata": {},
   "source": [
    "## Confidence"
   ]
  },
  {
   "cell_type": "markdown",
   "metadata": {},
   "source": [
    "Confidence refers to the likelihood that an item B is also bought if item A is bought. It can be calculated by finding the number of transactions where A and B are bought together, divided by the total number of transactions where A is bought. Mathematically, it can be represented as:"
   ]
  },
  {
   "cell_type": "markdown",
   "metadata": {},
   "source": [
    "Confidence(A → B) = (Transactions containing both (A and B))/(Transactions containing A)"
   ]
  },
  {
   "cell_type": "markdown",
   "metadata": {},
   "source": [
    "#### Example"
   ]
  },
  {
   "cell_type": "markdown",
   "metadata": {},
   "source": [
    "The confidence of likelihood of purchasing a diaper if a customer purchase milk.\n",
    "\n",
    "Confidence(milk → diaper) = (Transactions containing both (milk and diaper))/(Transactions containing milk)\n",
    "Confidence(milk → daiper) =30 / 120 = 25 %\n"
   ]
  },
  {
   "cell_type": "markdown",
   "metadata": {},
   "source": [
    "## Lift"
   ]
  },
  {
   "cell_type": "markdown",
   "metadata": {},
   "source": [
    "Lift refers to the increase in the ratio of the sale of B when A is sold.\n",
    "Lift(A –> B) can be calculated by dividing Confidence(A -> B) divided by Support(B).\n",
    "Mathematically it can be represented as:"
   ]
  },
  {
   "cell_type": "markdown",
   "metadata": {},
   "source": [
    "Lift(A→B) = (Confidence (A→B))/(Support (B))"
   ]
  },
  {
   "cell_type": "markdown",
   "metadata": {},
   "source": [
    "#### Example"
   ]
  },
  {
   "cell_type": "markdown",
   "metadata": {},
   "source": [
    "Lift(milk → diaper) = (Confidence (milk → diaper))/(Support (diaper))\n",
    "Lift(milk → diaper) = 25 / 15 = 1.66\n",
    "So by Lift theory, there is 1.66 times more chance of buying milk and diaper together then just buying diaper alone."
   ]
  },
  {
   "cell_type": "markdown",
   "metadata": {},
   "source": [
    "## Association rule by Lift"
   ]
  },
  {
   "cell_type": "markdown",
   "metadata": {},
   "source": [
    "lift = 1 → There is no association between A and B."
   ]
  },
  {
   "cell_type": "markdown",
   "metadata": {},
   "source": [
    "lift = 1 → There is no association between A and B."
   ]
  },
  {
   "cell_type": "markdown",
   "metadata": {},
   "source": [
    "lift > 1 → greater the lift greater is the likelihood of buying both products together."
   ]
  },
  {
   "cell_type": "markdown",
   "metadata": {},
   "source": [
    "# 1. Importing libraries"
   ]
  },
  {
   "cell_type": "code",
   "execution_count": 1,
   "metadata": {},
   "outputs": [],
   "source": [
    "import numpy as np\n",
    "import matplotlib.pyplot as plt\n",
    "import pandas as pd\n",
    "from apyori import apriori"
   ]
  },
  {
   "cell_type": "markdown",
   "metadata": {},
   "source": [
    "# 2.Importing the dataset"
   ]
  },
  {
   "cell_type": "code",
   "execution_count": 2,
   "metadata": {},
   "outputs": [],
   "source": [
    "groceries_df = pd.read_csv('groceries - groceries.csv',encoding='latin-1')"
   ]
  },
  {
   "cell_type": "code",
   "execution_count": 3,
   "metadata": {},
   "outputs": [
    {
     "data": {
      "text/html": [
       "<div>\n",
       "<style scoped>\n",
       "    .dataframe tbody tr th:only-of-type {\n",
       "        vertical-align: middle;\n",
       "    }\n",
       "\n",
       "    .dataframe tbody tr th {\n",
       "        vertical-align: top;\n",
       "    }\n",
       "\n",
       "    .dataframe thead th {\n",
       "        text-align: right;\n",
       "    }\n",
       "</style>\n",
       "<table border=\"1\" class=\"dataframe\">\n",
       "  <thead>\n",
       "    <tr style=\"text-align: right;\">\n",
       "      <th></th>\n",
       "      <th>Item(s)</th>\n",
       "      <th>Item 1</th>\n",
       "      <th>Item 2</th>\n",
       "      <th>Item 3</th>\n",
       "      <th>Item 4</th>\n",
       "      <th>Item 5</th>\n",
       "      <th>Item 6</th>\n",
       "      <th>Item 7</th>\n",
       "      <th>Item 8</th>\n",
       "      <th>Item 9</th>\n",
       "      <th>...</th>\n",
       "      <th>Item 23</th>\n",
       "      <th>Item 24</th>\n",
       "      <th>Item 25</th>\n",
       "      <th>Item 26</th>\n",
       "      <th>Item 27</th>\n",
       "      <th>Item 28</th>\n",
       "      <th>Item 29</th>\n",
       "      <th>Item 30</th>\n",
       "      <th>Item 31</th>\n",
       "      <th>Item 32</th>\n",
       "    </tr>\n",
       "  </thead>\n",
       "  <tbody>\n",
       "    <tr>\n",
       "      <td>0</td>\n",
       "      <td>4</td>\n",
       "      <td>citrus fruit</td>\n",
       "      <td>semi-finished bread</td>\n",
       "      <td>margarine</td>\n",
       "      <td>ready soups</td>\n",
       "      <td>NaN</td>\n",
       "      <td>NaN</td>\n",
       "      <td>NaN</td>\n",
       "      <td>NaN</td>\n",
       "      <td>NaN</td>\n",
       "      <td>...</td>\n",
       "      <td>NaN</td>\n",
       "      <td>NaN</td>\n",
       "      <td>NaN</td>\n",
       "      <td>NaN</td>\n",
       "      <td>NaN</td>\n",
       "      <td>NaN</td>\n",
       "      <td>NaN</td>\n",
       "      <td>NaN</td>\n",
       "      <td>NaN</td>\n",
       "      <td>NaN</td>\n",
       "    </tr>\n",
       "    <tr>\n",
       "      <td>1</td>\n",
       "      <td>3</td>\n",
       "      <td>tropical fruit</td>\n",
       "      <td>yogurt</td>\n",
       "      <td>coffee</td>\n",
       "      <td>NaN</td>\n",
       "      <td>NaN</td>\n",
       "      <td>NaN</td>\n",
       "      <td>NaN</td>\n",
       "      <td>NaN</td>\n",
       "      <td>NaN</td>\n",
       "      <td>...</td>\n",
       "      <td>NaN</td>\n",
       "      <td>NaN</td>\n",
       "      <td>NaN</td>\n",
       "      <td>NaN</td>\n",
       "      <td>NaN</td>\n",
       "      <td>NaN</td>\n",
       "      <td>NaN</td>\n",
       "      <td>NaN</td>\n",
       "      <td>NaN</td>\n",
       "      <td>NaN</td>\n",
       "    </tr>\n",
       "    <tr>\n",
       "      <td>2</td>\n",
       "      <td>1</td>\n",
       "      <td>whole milk</td>\n",
       "      <td>NaN</td>\n",
       "      <td>NaN</td>\n",
       "      <td>NaN</td>\n",
       "      <td>NaN</td>\n",
       "      <td>NaN</td>\n",
       "      <td>NaN</td>\n",
       "      <td>NaN</td>\n",
       "      <td>NaN</td>\n",
       "      <td>...</td>\n",
       "      <td>NaN</td>\n",
       "      <td>NaN</td>\n",
       "      <td>NaN</td>\n",
       "      <td>NaN</td>\n",
       "      <td>NaN</td>\n",
       "      <td>NaN</td>\n",
       "      <td>NaN</td>\n",
       "      <td>NaN</td>\n",
       "      <td>NaN</td>\n",
       "      <td>NaN</td>\n",
       "    </tr>\n",
       "    <tr>\n",
       "      <td>3</td>\n",
       "      <td>4</td>\n",
       "      <td>pip fruit</td>\n",
       "      <td>yogurt</td>\n",
       "      <td>cream cheese</td>\n",
       "      <td>meat spreads</td>\n",
       "      <td>NaN</td>\n",
       "      <td>NaN</td>\n",
       "      <td>NaN</td>\n",
       "      <td>NaN</td>\n",
       "      <td>NaN</td>\n",
       "      <td>...</td>\n",
       "      <td>NaN</td>\n",
       "      <td>NaN</td>\n",
       "      <td>NaN</td>\n",
       "      <td>NaN</td>\n",
       "      <td>NaN</td>\n",
       "      <td>NaN</td>\n",
       "      <td>NaN</td>\n",
       "      <td>NaN</td>\n",
       "      <td>NaN</td>\n",
       "      <td>NaN</td>\n",
       "    </tr>\n",
       "    <tr>\n",
       "      <td>4</td>\n",
       "      <td>4</td>\n",
       "      <td>other vegetables</td>\n",
       "      <td>whole milk</td>\n",
       "      <td>condensed milk</td>\n",
       "      <td>long life bakery product</td>\n",
       "      <td>NaN</td>\n",
       "      <td>NaN</td>\n",
       "      <td>NaN</td>\n",
       "      <td>NaN</td>\n",
       "      <td>NaN</td>\n",
       "      <td>...</td>\n",
       "      <td>NaN</td>\n",
       "      <td>NaN</td>\n",
       "      <td>NaN</td>\n",
       "      <td>NaN</td>\n",
       "      <td>NaN</td>\n",
       "      <td>NaN</td>\n",
       "      <td>NaN</td>\n",
       "      <td>NaN</td>\n",
       "      <td>NaN</td>\n",
       "      <td>NaN</td>\n",
       "    </tr>\n",
       "  </tbody>\n",
       "</table>\n",
       "<p>5 rows × 33 columns</p>\n",
       "</div>"
      ],
      "text/plain": [
       "   Item(s)            Item 1               Item 2          Item 3  \\\n",
       "0        4      citrus fruit  semi-finished bread       margarine   \n",
       "1        3    tropical fruit               yogurt          coffee   \n",
       "2        1        whole milk                  NaN             NaN   \n",
       "3        4         pip fruit               yogurt    cream cheese   \n",
       "4        4  other vegetables           whole milk  condensed milk   \n",
       "\n",
       "                     Item 4 Item 5 Item 6 Item 7 Item 8 Item 9  ... Item 23  \\\n",
       "0               ready soups    NaN    NaN    NaN    NaN    NaN  ...     NaN   \n",
       "1                       NaN    NaN    NaN    NaN    NaN    NaN  ...     NaN   \n",
       "2                       NaN    NaN    NaN    NaN    NaN    NaN  ...     NaN   \n",
       "3              meat spreads    NaN    NaN    NaN    NaN    NaN  ...     NaN   \n",
       "4  long life bakery product    NaN    NaN    NaN    NaN    NaN  ...     NaN   \n",
       "\n",
       "  Item 24 Item 25 Item 26 Item 27 Item 28 Item 29 Item 30 Item 31 Item 32  \n",
       "0     NaN     NaN     NaN     NaN     NaN     NaN     NaN     NaN     NaN  \n",
       "1     NaN     NaN     NaN     NaN     NaN     NaN     NaN     NaN     NaN  \n",
       "2     NaN     NaN     NaN     NaN     NaN     NaN     NaN     NaN     NaN  \n",
       "3     NaN     NaN     NaN     NaN     NaN     NaN     NaN     NaN     NaN  \n",
       "4     NaN     NaN     NaN     NaN     NaN     NaN     NaN     NaN     NaN  \n",
       "\n",
       "[5 rows x 33 columns]"
      ]
     },
     "execution_count": 3,
     "metadata": {},
     "output_type": "execute_result"
    }
   ],
   "source": [
    "groceries_df.head()"
   ]
  },
  {
   "cell_type": "code",
   "execution_count": 4,
   "metadata": {},
   "outputs": [],
   "source": [
    "groceries_df = groceries_df.drop(['Item(s)'], axis = 1)"
   ]
  },
  {
   "cell_type": "code",
   "execution_count": 5,
   "metadata": {},
   "outputs": [
    {
     "name": "stdout",
     "output_type": "stream",
     "text": [
      "9835\n"
     ]
    }
   ],
   "source": [
    "num_records = len(groceries_df)\n",
    "print(num_records)"
   ]
  },
  {
   "cell_type": "markdown",
   "metadata": {},
   "source": [
    "# 3.Data Proprocessing"
   ]
  },
  {
   "cell_type": "code",
   "execution_count": 6,
   "metadata": {},
   "outputs": [],
   "source": [
    "records =[]\n",
    "for i in range(0,num_records):\n",
    "    records.append([str(groceries_df.values[i,j]) for j in range(0, 32)])"
   ]
  },
  {
   "cell_type": "markdown",
   "metadata": {},
   "source": [
    "# 4.Using Apriori from the apriori library"
   ]
  },
  {
   "cell_type": "raw",
   "metadata": {},
   "source": [
    "min_length = 2 → at least two products"
   ]
  },
  {
   "cell_type": "raw",
   "metadata": {},
   "source": [
    "min_support = 0,0045. \n",
    "Let's suppose that our dataset is for a one-week time period and we want rules for only those items that are purchased at least 5 times a day, or 7 x 5 = 35 times in one week. The support for those items can be calculated as 35/7500 = 0.0045."
   ]
  },
  {
   "cell_type": "raw",
   "metadata": {},
   "source": [
    "min_confidence = 0,2 "
   ]
  },
  {
   "cell_type": "code",
   "execution_count": 7,
   "metadata": {},
   "outputs": [],
   "source": [
    "association_rules = apriori (records,min_support=0.0045, min_confidence = 0.20, min_lift = 3, min_length =2)\n",
    "association_results = list(association_rules)"
   ]
  },
  {
   "cell_type": "markdown",
   "metadata": {},
   "source": [
    "The first rule"
   ]
  },
  {
   "cell_type": "code",
   "execution_count": 8,
   "metadata": {},
   "outputs": [
    {
     "name": "stdout",
     "output_type": "stream",
     "text": [
      "RelationRecord(items=frozenset({'whipped/sour cream', 'baking powder'}), support=0.004575495678698526, ordered_statistics=[OrderedStatistic(items_base=frozenset({'baking powder'}), items_add=frozenset({'whipped/sour cream'}), confidence=0.25862068965517243, lift=3.607850330154072)])\n"
     ]
    }
   ],
   "source": [
    "print(association_results[0])"
   ]
  },
  {
   "cell_type": "markdown",
   "metadata": {},
   "source": [
    "# 5.Display results "
   ]
  },
  {
   "cell_type": "code",
   "execution_count": 9,
   "metadata": {},
   "outputs": [
    {
     "data": {
      "text/html": [
       "<style  type=\"text/css\" >\n",
       "</style><table id=\"T_0b50a4ee_97a8_11ea_8271_9cb6d09181ee\" ><thead>    <tr>        <th class=\"col_heading level0 col0\" >Item 1</th>        <th class=\"col_heading level0 col1\" >Item 2</th>        <th class=\"col_heading level0 col2\" >Support</th>        <th class=\"col_heading level0 col3\" >Confidence</th>        <th class=\"col_heading level0 col4\" >Lift</th>    </tr></thead><tbody>\n",
       "                <tr>\n",
       "                                <td id=\"T_0b50a4ee_97a8_11ea_8271_9cb6d09181eerow0_col0\" class=\"data row0 col0\" >sausage</td>\n",
       "                        <td id=\"T_0b50a4ee_97a8_11ea_8271_9cb6d09181eerow0_col1\" class=\"data row0 col1\" >sliced cheese</td>\n",
       "                        <td id=\"T_0b50a4ee_97a8_11ea_8271_9cb6d09181eerow0_col2\" class=\"data row0 col2\" >0.00701</td>\n",
       "                        <td id=\"T_0b50a4ee_97a8_11ea_8271_9cb6d09181eerow0_col3\" class=\"data row0 col3\" >0.28630</td>\n",
       "                        <td id=\"T_0b50a4ee_97a8_11ea_8271_9cb6d09181eerow0_col4\" class=\"data row0 col4\" >3.04743</td>\n",
       "            </tr>\n",
       "            <tr>\n",
       "                                <td id=\"T_0b50a4ee_97a8_11ea_8271_9cb6d09181eerow1_col0\" class=\"data row1 col0\" >whipped/sour cream</td>\n",
       "                        <td id=\"T_0b50a4ee_97a8_11ea_8271_9cb6d09181eerow1_col1\" class=\"data row1 col1\" >baking powder</td>\n",
       "                        <td id=\"T_0b50a4ee_97a8_11ea_8271_9cb6d09181eerow1_col2\" class=\"data row1 col2\" >0.00457</td>\n",
       "                        <td id=\"T_0b50a4ee_97a8_11ea_8271_9cb6d09181eerow1_col3\" class=\"data row1 col3\" >0.25862</td>\n",
       "                        <td id=\"T_0b50a4ee_97a8_11ea_8271_9cb6d09181eerow1_col4\" class=\"data row1 col4\" >3.61297</td>\n",
       "            </tr>\n",
       "            <tr>\n",
       "                                <td id=\"T_0b50a4ee_97a8_11ea_8271_9cb6d09181eerow2_col0\" class=\"data row2 col0\" >whipped/sour cream</td>\n",
       "                        <td id=\"T_0b50a4ee_97a8_11ea_8271_9cb6d09181eerow2_col1\" class=\"data row2 col1\" >berries</td>\n",
       "                        <td id=\"T_0b50a4ee_97a8_11ea_8271_9cb6d09181eerow2_col2\" class=\"data row2 col2\" >0.00904</td>\n",
       "                        <td id=\"T_0b50a4ee_97a8_11ea_8271_9cb6d09181eerow2_col3\" class=\"data row2 col3\" >0.27217</td>\n",
       "                        <td id=\"T_0b50a4ee_97a8_11ea_8271_9cb6d09181eerow2_col4\" class=\"data row2 col4\" >3.80227</td>\n",
       "            </tr>\n",
       "            <tr>\n",
       "                                <td id=\"T_0b50a4ee_97a8_11ea_8271_9cb6d09181eerow3_col0\" class=\"data row3 col0\" >bottled beer</td>\n",
       "                        <td id=\"T_0b50a4ee_97a8_11ea_8271_9cb6d09181eerow3_col1\" class=\"data row3 col1\" >liquor</td>\n",
       "                        <td id=\"T_0b50a4ee_97a8_11ea_8271_9cb6d09181eerow3_col2\" class=\"data row3 col2\" >0.00467</td>\n",
       "                        <td id=\"T_0b50a4ee_97a8_11ea_8271_9cb6d09181eerow3_col3\" class=\"data row3 col3\" >0.42201</td>\n",
       "                        <td id=\"T_0b50a4ee_97a8_11ea_8271_9cb6d09181eerow3_col4\" class=\"data row3 col4\" >5.24059</td>\n",
       "            </tr>\n",
       "            <tr>\n",
       "                                <td id=\"T_0b50a4ee_97a8_11ea_8271_9cb6d09181eerow4_col0\" class=\"data row4 col0\" >bottled beer</td>\n",
       "                        <td id=\"T_0b50a4ee_97a8_11ea_8271_9cb6d09181eerow4_col1\" class=\"data row4 col1\" >red/blush wine</td>\n",
       "                        <td id=\"T_0b50a4ee_97a8_11ea_8271_9cb6d09181eerow4_col2\" class=\"data row4 col2\" >0.00488</td>\n",
       "                        <td id=\"T_0b50a4ee_97a8_11ea_8271_9cb6d09181eerow4_col3\" class=\"data row4 col3\" >0.25396</td>\n",
       "                        <td id=\"T_0b50a4ee_97a8_11ea_8271_9cb6d09181eerow4_col4\" class=\"data row4 col4\" >3.15375</td>\n",
       "            </tr>\n",
       "            <tr>\n",
       "                                <td id=\"T_0b50a4ee_97a8_11ea_8271_9cb6d09181eerow5_col0\" class=\"data row5 col0\" >butter</td>\n",
       "                        <td id=\"T_0b50a4ee_97a8_11ea_8271_9cb6d09181eerow5_col1\" class=\"data row5 col1\" >root vegetables</td>\n",
       "                        <td id=\"T_0b50a4ee_97a8_11ea_8271_9cb6d09181eerow5_col2\" class=\"data row5 col2\" >0.00660</td>\n",
       "                        <td id=\"T_0b50a4ee_97a8_11ea_8271_9cb6d09181eerow5_col3\" class=\"data row5 col3\" >0.32994</td>\n",
       "                        <td id=\"T_0b50a4ee_97a8_11ea_8271_9cb6d09181eerow5_col4\" class=\"data row5 col4\" >3.02709</td>\n",
       "            </tr>\n",
       "            <tr>\n",
       "                                <td id=\"T_0b50a4ee_97a8_11ea_8271_9cb6d09181eerow6_col0\" class=\"data row6 col0\" >butter</td>\n",
       "                        <td id=\"T_0b50a4ee_97a8_11ea_8271_9cb6d09181eerow6_col1\" class=\"data row6 col1\" >yogurt</td>\n",
       "                        <td id=\"T_0b50a4ee_97a8_11ea_8271_9cb6d09181eerow6_col2\" class=\"data row6 col2\" >0.00457</td>\n",
       "                        <td id=\"T_0b50a4ee_97a8_11ea_8271_9cb6d09181eerow6_col3\" class=\"data row6 col3\" >0.45918</td>\n",
       "                        <td id=\"T_0b50a4ee_97a8_11ea_8271_9cb6d09181eerow6_col4\" class=\"data row6 col4\" >3.29159</td>\n",
       "            </tr>\n",
       "            <tr>\n",
       "                                <td id=\"T_0b50a4ee_97a8_11ea_8271_9cb6d09181eerow7_col0\" class=\"data row7 col0\" >other vegetables</td>\n",
       "                        <td id=\"T_0b50a4ee_97a8_11ea_8271_9cb6d09181eerow7_col1\" class=\"data row7 col1\" >chicken</td>\n",
       "                        <td id=\"T_0b50a4ee_97a8_11ea_8271_9cb6d09181eerow7_col2\" class=\"data row7 col2\" >0.00488</td>\n",
       "                        <td id=\"T_0b50a4ee_97a8_11ea_8271_9cb6d09181eerow7_col3\" class=\"data row7 col3\" >0.58536</td>\n",
       "                        <td id=\"T_0b50a4ee_97a8_11ea_8271_9cb6d09181eerow7_col4\" class=\"data row7 col4\" >3.02526</td>\n",
       "            </tr>\n",
       "            <tr>\n",
       "                                <td id=\"T_0b50a4ee_97a8_11ea_8271_9cb6d09181eerow8_col0\" class=\"data row8 col0\" >tropical fruit</td>\n",
       "                        <td id=\"T_0b50a4ee_97a8_11ea_8271_9cb6d09181eerow8_col1\" class=\"data row8 col1\" >citrus fruit</td>\n",
       "                        <td id=\"T_0b50a4ee_97a8_11ea_8271_9cb6d09181eerow8_col2\" class=\"data row8 col2\" >0.00559</td>\n",
       "                        <td id=\"T_0b50a4ee_97a8_11ea_8271_9cb6d09181eerow8_col3\" class=\"data row8 col3\" >0.40441</td>\n",
       "                        <td id=\"T_0b50a4ee_97a8_11ea_8271_9cb6d09181eerow8_col4\" class=\"data row8 col4\" >3.85405</td>\n",
       "            </tr>\n",
       "            <tr>\n",
       "                                <td id=\"T_0b50a4ee_97a8_11ea_8271_9cb6d09181eerow9_col0\" class=\"data row9 col0\" >whipped/sour cream</td>\n",
       "                        <td id=\"T_0b50a4ee_97a8_11ea_8271_9cb6d09181eerow9_col1\" class=\"data row9 col1\" >citrus fruit</td>\n",
       "                        <td id=\"T_0b50a4ee_97a8_11ea_8271_9cb6d09181eerow9_col2\" class=\"data row9 col2\" >0.00457</td>\n",
       "                        <td id=\"T_0b50a4ee_97a8_11ea_8271_9cb6d09181eerow9_col3\" class=\"data row9 col3\" >0.42056</td>\n",
       "                        <td id=\"T_0b50a4ee_97a8_11ea_8271_9cb6d09181eerow9_col4\" class=\"data row9 col4\" >3.01473</td>\n",
       "            </tr>\n",
       "            <tr>\n",
       "                                <td id=\"T_0b50a4ee_97a8_11ea_8271_9cb6d09181eerow10_col0\" class=\"data row10 col0\" >sugar</td>\n",
       "                        <td id=\"T_0b50a4ee_97a8_11ea_8271_9cb6d09181eerow10_col1\" class=\"data row10 col1\" >flour</td>\n",
       "                        <td id=\"T_0b50a4ee_97a8_11ea_8271_9cb6d09181eerow10_col2\" class=\"data row10 col2\" >0.00488</td>\n",
       "                        <td id=\"T_0b50a4ee_97a8_11ea_8271_9cb6d09181eerow10_col3\" class=\"data row10 col3\" >0.28070</td>\n",
       "                        <td id=\"T_0b50a4ee_97a8_11ea_8271_9cb6d09181eerow10_col4\" class=\"data row10 col4\" >8.31536</td>\n",
       "            </tr>\n",
       "            <tr>\n",
       "                                <td id=\"T_0b50a4ee_97a8_11ea_8271_9cb6d09181eerow11_col0\" class=\"data row11 col0\" >herbs</td>\n",
       "                        <td id=\"T_0b50a4ee_97a8_11ea_8271_9cb6d09181eerow11_col1\" class=\"data row11 col1\" >root vegetables</td>\n",
       "                        <td id=\"T_0b50a4ee_97a8_11ea_8271_9cb6d09181eerow11_col2\" class=\"data row11 col2\" >0.00701</td>\n",
       "                        <td id=\"T_0b50a4ee_97a8_11ea_8271_9cb6d09181eerow11_col3\" class=\"data row11 col3\" >0.43124</td>\n",
       "                        <td id=\"T_0b50a4ee_97a8_11ea_8271_9cb6d09181eerow11_col4\" class=\"data row11 col4\" >3.96017</td>\n",
       "            </tr>\n",
       "            <tr>\n",
       "                                <td id=\"T_0b50a4ee_97a8_11ea_8271_9cb6d09181eerow12_col0\" class=\"data row12 col0\" >sliced cheese</td>\n",
       "                        <td id=\"T_0b50a4ee_97a8_11ea_8271_9cb6d09181eerow12_col1\" class=\"data row12 col1\" >sausage</td>\n",
       "                        <td id=\"T_0b50a4ee_97a8_11ea_8271_9cb6d09181eerow12_col2\" class=\"data row12 col2\" >0.00701</td>\n",
       "                        <td id=\"T_0b50a4ee_97a8_11ea_8271_9cb6d09181eerow12_col3\" class=\"data row12 col3\" >0.28630</td>\n",
       "                        <td id=\"T_0b50a4ee_97a8_11ea_8271_9cb6d09181eerow12_col4\" class=\"data row12 col4\" >3.05073</td>\n",
       "            </tr>\n",
       "            <tr>\n",
       "                                <td id=\"T_0b50a4ee_97a8_11ea_8271_9cb6d09181eerow13_col0\" class=\"data row13 col0\" >sausage</td>\n",
       "                        <td id=\"T_0b50a4ee_97a8_11ea_8271_9cb6d09181eerow13_col1\" class=\"data row13 col1\" >shopping bags</td>\n",
       "                        <td id=\"T_0b50a4ee_97a8_11ea_8271_9cb6d09181eerow13_col2\" class=\"data row13 col2\" >0.00599</td>\n",
       "                        <td id=\"T_0b50a4ee_97a8_11ea_8271_9cb6d09181eerow13_col3\" class=\"data row13 col3\" >0.30729</td>\n",
       "                        <td id=\"T_0b50a4ee_97a8_11ea_8271_9cb6d09181eerow13_col4\" class=\"data row13 col4\" >3.27079</td>\n",
       "            </tr>\n",
       "            <tr>\n",
       "                                <td id=\"T_0b50a4ee_97a8_11ea_8271_9cb6d09181eerow14_col0\" class=\"data row14 col0\" >root vegetables</td>\n",
       "                        <td id=\"T_0b50a4ee_97a8_11ea_8271_9cb6d09181eerow14_col1\" class=\"data row14 col1\" >yogurt</td>\n",
       "                        <td id=\"T_0b50a4ee_97a8_11ea_8271_9cb6d09181eerow14_col2\" class=\"data row14 col2\" >0.00813</td>\n",
       "                        <td id=\"T_0b50a4ee_97a8_11ea_8271_9cb6d09181eerow14_col3\" class=\"data row14 col3\" >0.31496</td>\n",
       "                        <td id=\"T_0b50a4ee_97a8_11ea_8271_9cb6d09181eerow14_col4\" class=\"data row14 col4\" >3.00158</td>\n",
       "            </tr>\n",
       "            <tr>\n",
       "                                <td id=\"T_0b50a4ee_97a8_11ea_8271_9cb6d09181eerow15_col0\" class=\"data row15 col0\" >beef</td>\n",
       "                        <td id=\"T_0b50a4ee_97a8_11ea_8271_9cb6d09181eerow15_col1\" class=\"data row15 col1\" >other vegetables</td>\n",
       "                        <td id=\"T_0b50a4ee_97a8_11ea_8271_9cb6d09181eerow15_col2\" class=\"data row15 col2\" >0.00782</td>\n",
       "                        <td id=\"T_0b50a4ee_97a8_11ea_8271_9cb6d09181eerow15_col3\" class=\"data row15 col3\" >0.39690</td>\n",
       "                        <td id=\"T_0b50a4ee_97a8_11ea_8271_9cb6d09181eerow15_col4\" class=\"data row15 col4\" >3.64480</td>\n",
       "            </tr>\n",
       "            <tr>\n",
       "                                <td id=\"T_0b50a4ee_97a8_11ea_8271_9cb6d09181eerow16_col0\" class=\"data row16 col0\" >beef</td>\n",
       "                        <td id=\"T_0b50a4ee_97a8_11ea_8271_9cb6d09181eerow16_col1\" class=\"data row16 col1\" >root vegetables</td>\n",
       "                        <td id=\"T_0b50a4ee_97a8_11ea_8271_9cb6d09181eerow16_col2\" class=\"data row16 col2\" >0.00793</td>\n",
       "                        <td id=\"T_0b50a4ee_97a8_11ea_8271_9cb6d09181eerow16_col3\" class=\"data row16 col3\" >0.37320</td>\n",
       "                        <td id=\"T_0b50a4ee_97a8_11ea_8271_9cb6d09181eerow16_col4\" class=\"data row16 col4\" >3.42715</td>\n",
       "            </tr>\n",
       "            <tr>\n",
       "                                <td id=\"T_0b50a4ee_97a8_11ea_8271_9cb6d09181eerow17_col0\" class=\"data row17 col0\" >domestic eggs</td>\n",
       "                        <td id=\"T_0b50a4ee_97a8_11ea_8271_9cb6d09181eerow17_col1\" class=\"data row17 col1\" >butter</td>\n",
       "                        <td id=\"T_0b50a4ee_97a8_11ea_8271_9cb6d09181eerow17_col2\" class=\"data row17 col2\" >0.00589</td>\n",
       "                        <td id=\"T_0b50a4ee_97a8_11ea_8271_9cb6d09181eerow17_col3\" class=\"data row17 col3\" >0.21402</td>\n",
       "                        <td id=\"T_0b50a4ee_97a8_11ea_8271_9cb6d09181eerow17_col4\" class=\"data row17 col4\" >3.37866</td>\n",
       "            </tr>\n",
       "            <tr>\n",
       "                                <td id=\"T_0b50a4ee_97a8_11ea_8271_9cb6d09181eerow18_col0\" class=\"data row18 col0\" >whipped/sour cream</td>\n",
       "                        <td id=\"T_0b50a4ee_97a8_11ea_8271_9cb6d09181eerow18_col1\" class=\"data row18 col1\" >butter</td>\n",
       "                        <td id=\"T_0b50a4ee_97a8_11ea_8271_9cb6d09181eerow18_col2\" class=\"data row18 col2\" >0.00660</td>\n",
       "                        <td id=\"T_0b50a4ee_97a8_11ea_8271_9cb6d09181eerow18_col3\" class=\"data row18 col3\" >0.23985</td>\n",
       "                        <td id=\"T_0b50a4ee_97a8_11ea_8271_9cb6d09181eerow18_col4\" class=\"data row18 col4\" >3.35077</td>\n",
       "            </tr>\n",
       "            <tr>\n",
       "                                <td id=\"T_0b50a4ee_97a8_11ea_8271_9cb6d09181eerow19_col0\" class=\"data row19 col0\" >root vegetables</td>\n",
       "                        <td id=\"T_0b50a4ee_97a8_11ea_8271_9cb6d09181eerow19_col1\" class=\"data row19 col1\" >chicken</td>\n",
       "                        <td id=\"T_0b50a4ee_97a8_11ea_8271_9cb6d09181eerow19_col2\" class=\"data row19 col2\" >0.00589</td>\n",
       "                        <td id=\"T_0b50a4ee_97a8_11ea_8271_9cb6d09181eerow19_col3\" class=\"data row19 col3\" >0.33526</td>\n",
       "                        <td id=\"T_0b50a4ee_97a8_11ea_8271_9cb6d09181eerow19_col4\" class=\"data row19 col4\" >3.07869</td>\n",
       "            </tr>\n",
       "            <tr>\n",
       "                                <td id=\"T_0b50a4ee_97a8_11ea_8271_9cb6d09181eerow20_col0\" class=\"data row20 col0\" >citrus fruit</td>\n",
       "                        <td id=\"T_0b50a4ee_97a8_11ea_8271_9cb6d09181eerow20_col1\" class=\"data row20 col1\" >tropical fruit</td>\n",
       "                        <td id=\"T_0b50a4ee_97a8_11ea_8271_9cb6d09181eerow20_col2\" class=\"data row20 col2\" >0.00559</td>\n",
       "                        <td id=\"T_0b50a4ee_97a8_11ea_8271_9cb6d09181eerow20_col3\" class=\"data row20 col3\" >0.40441</td>\n",
       "                        <td id=\"T_0b50a4ee_97a8_11ea_8271_9cb6d09181eerow20_col4\" class=\"data row20 col4\" >3.85779</td>\n",
       "            </tr>\n",
       "            <tr>\n",
       "                                <td id=\"T_0b50a4ee_97a8_11ea_8271_9cb6d09181eerow21_col0\" class=\"data row21 col0\" >citrus fruit</td>\n",
       "                        <td id=\"T_0b50a4ee_97a8_11ea_8271_9cb6d09181eerow21_col1\" class=\"data row21 col1\" >root vegetables</td>\n",
       "                        <td id=\"T_0b50a4ee_97a8_11ea_8271_9cb6d09181eerow21_col2\" class=\"data row21 col2\" >0.00559</td>\n",
       "                        <td id=\"T_0b50a4ee_97a8_11ea_8271_9cb6d09181eerow21_col3\" class=\"data row21 col3\" >0.31609</td>\n",
       "                        <td id=\"T_0b50a4ee_97a8_11ea_8271_9cb6d09181eerow21_col4\" class=\"data row21 col4\" >3.01529</td>\n",
       "            </tr>\n",
       "            <tr>\n",
       "                                <td id=\"T_0b50a4ee_97a8_11ea_8271_9cb6d09181eerow22_col0\" class=\"data row22 col0\" >citrus fruit</td>\n",
       "                        <td id=\"T_0b50a4ee_97a8_11ea_8271_9cb6d09181eerow22_col1\" class=\"data row22 col1\" >other vegetables</td>\n",
       "                        <td id=\"T_0b50a4ee_97a8_11ea_8271_9cb6d09181eerow22_col2\" class=\"data row22 col2\" >0.00498</td>\n",
       "                        <td id=\"T_0b50a4ee_97a8_11ea_8271_9cb6d09181eerow22_col3\" class=\"data row22 col3\" >0.25</td>\n",
       "                        <td id=\"T_0b50a4ee_97a8_11ea_8271_9cb6d09181eerow22_col4\" class=\"data row22 col4\" >3.34069</td>\n",
       "            </tr>\n",
       "            <tr>\n",
       "                                <td id=\"T_0b50a4ee_97a8_11ea_8271_9cb6d09181eerow23_col0\" class=\"data row23 col0\" >curd</td>\n",
       "                        <td id=\"T_0b50a4ee_97a8_11ea_8271_9cb6d09181eerow23_col1\" class=\"data row23 col1\" >root vegetables</td>\n",
       "                        <td id=\"T_0b50a4ee_97a8_11ea_8271_9cb6d09181eerow23_col2\" class=\"data row23 col2\" >0.00457</td>\n",
       "                        <td id=\"T_0b50a4ee_97a8_11ea_8271_9cb6d09181eerow23_col3\" class=\"data row23 col3\" >0.42056</td>\n",
       "                        <td id=\"T_0b50a4ee_97a8_11ea_8271_9cb6d09181eerow23_col4\" class=\"data row23 col4\" >3.01693</td>\n",
       "            </tr>\n",
       "            <tr>\n",
       "                                <td id=\"T_0b50a4ee_97a8_11ea_8271_9cb6d09181eerow24_col0\" class=\"data row24 col0\" >curd</td>\n",
       "                        <td id=\"T_0b50a4ee_97a8_11ea_8271_9cb6d09181eerow24_col1\" class=\"data row24 col1\" >yogurt</td>\n",
       "                        <td id=\"T_0b50a4ee_97a8_11ea_8271_9cb6d09181eerow24_col2\" class=\"data row24 col2\" >0.00518</td>\n",
       "                        <td id=\"T_0b50a4ee_97a8_11ea_8271_9cb6d09181eerow24_col3\" class=\"data row24 col3\" >0.50495</td>\n",
       "                        <td id=\"T_0b50a4ee_97a8_11ea_8271_9cb6d09181eerow24_col4\" class=\"data row24 col4\" >3.62231</td>\n",
       "            </tr>\n",
       "            <tr>\n",
       "                                <td id=\"T_0b50a4ee_97a8_11ea_8271_9cb6d09181eerow25_col0\" class=\"data row25 col0\" >curd</td>\n",
       "                        <td id=\"T_0b50a4ee_97a8_11ea_8271_9cb6d09181eerow25_col1\" class=\"data row25 col1\" >whipped/sour cream</td>\n",
       "                        <td id=\"T_0b50a4ee_97a8_11ea_8271_9cb6d09181eerow25_col2\" class=\"data row25 col2\" >0.00579</td>\n",
       "                        <td id=\"T_0b50a4ee_97a8_11ea_8271_9cb6d09181eerow25_col3\" class=\"data row25 col3\" >0.22178</td>\n",
       "                        <td id=\"T_0b50a4ee_97a8_11ea_8271_9cb6d09181eerow25_col4\" class=\"data row25 col4\" >3.09844</td>\n",
       "            </tr>\n",
       "            <tr>\n",
       "                                <td id=\"T_0b50a4ee_97a8_11ea_8271_9cb6d09181eerow26_col0\" class=\"data row26 col0\" >domestic eggs</td>\n",
       "                        <td id=\"T_0b50a4ee_97a8_11ea_8271_9cb6d09181eerow26_col1\" class=\"data row26 col1\" >margarine</td>\n",
       "                        <td id=\"T_0b50a4ee_97a8_11ea_8271_9cb6d09181eerow26_col2\" class=\"data row26 col2\" >0.00508</td>\n",
       "                        <td id=\"T_0b50a4ee_97a8_11ea_8271_9cb6d09181eerow26_col3\" class=\"data row26 col3\" >0.21008</td>\n",
       "                        <td id=\"T_0b50a4ee_97a8_11ea_8271_9cb6d09181eerow26_col4\" class=\"data row26 col4\" >3.31649</td>\n",
       "            </tr>\n",
       "            <tr>\n",
       "                                <td id=\"T_0b50a4ee_97a8_11ea_8271_9cb6d09181eerow27_col0\" class=\"data row27 col0\" >whipped/sour cream</td>\n",
       "                        <td id=\"T_0b50a4ee_97a8_11ea_8271_9cb6d09181eerow27_col1\" class=\"data row27 col1\" >domestic eggs</td>\n",
       "                        <td id=\"T_0b50a4ee_97a8_11ea_8271_9cb6d09181eerow27_col2\" class=\"data row27 col2\" >0.00498</td>\n",
       "                        <td id=\"T_0b50a4ee_97a8_11ea_8271_9cb6d09181eerow27_col3\" class=\"data row27 col3\" >0.22374</td>\n",
       "                        <td id=\"T_0b50a4ee_97a8_11ea_8271_9cb6d09181eerow27_col4\" class=\"data row27 col4\" >3.12574</td>\n",
       "            </tr>\n",
       "            <tr>\n",
       "                                <td id=\"T_0b50a4ee_97a8_11ea_8271_9cb6d09181eerow28_col0\" class=\"data row28 col0\" >domestic eggs</td>\n",
       "                        <td id=\"T_0b50a4ee_97a8_11ea_8271_9cb6d09181eerow28_col1\" class=\"data row28 col1\" >root vegetables</td>\n",
       "                        <td id=\"T_0b50a4ee_97a8_11ea_8271_9cb6d09181eerow28_col2\" class=\"data row28 col2\" >0.00457</td>\n",
       "                        <td id=\"T_0b50a4ee_97a8_11ea_8271_9cb6d09181eerow28_col3\" class=\"data row28 col3\" >0.20547</td>\n",
       "                        <td id=\"T_0b50a4ee_97a8_11ea_8271_9cb6d09181eerow28_col4\" class=\"data row28 col4\" >4.20143</td>\n",
       "            </tr>\n",
       "            <tr>\n",
       "                                <td id=\"T_0b50a4ee_97a8_11ea_8271_9cb6d09181eerow29_col0\" class=\"data row29 col0\" >other vegetables</td>\n",
       "                        <td id=\"T_0b50a4ee_97a8_11ea_8271_9cb6d09181eerow29_col1\" class=\"data row29 col1\" >fruit/vegetable juice</td>\n",
       "                        <td id=\"T_0b50a4ee_97a8_11ea_8271_9cb6d09181eerow29_col2\" class=\"data row29 col2\" >0.00508</td>\n",
       "                        <td id=\"T_0b50a4ee_97a8_11ea_8271_9cb6d09181eerow29_col3\" class=\"data row29 col3\" >0.24154</td>\n",
       "                        <td id=\"T_0b50a4ee_97a8_11ea_8271_9cb6d09181eerow29_col4\" class=\"data row29 col4\" >4.31144</td>\n",
       "            </tr>\n",
       "            <tr>\n",
       "                                <td id=\"T_0b50a4ee_97a8_11ea_8271_9cb6d09181eerow30_col0\" class=\"data row30 col0\" >onions</td>\n",
       "                        <td id=\"T_0b50a4ee_97a8_11ea_8271_9cb6d09181eerow30_col1\" class=\"data row30 col1\" >root vegetables</td>\n",
       "                        <td id=\"T_0b50a4ee_97a8_11ea_8271_9cb6d09181eerow30_col2\" class=\"data row30 col2\" >0.00477</td>\n",
       "                        <td id=\"T_0b50a4ee_97a8_11ea_8271_9cb6d09181eerow30_col3\" class=\"data row30 col3\" >0.39495</td>\n",
       "                        <td id=\"T_0b50a4ee_97a8_11ea_8271_9cb6d09181eerow30_col4\" class=\"data row30 col4\" >3.62690</td>\n",
       "            </tr>\n",
       "            <tr>\n",
       "                                <td id=\"T_0b50a4ee_97a8_11ea_8271_9cb6d09181eerow31_col0\" class=\"data row31 col0\" >whipped/sour cream</td>\n",
       "                        <td id=\"T_0b50a4ee_97a8_11ea_8271_9cb6d09181eerow31_col1\" class=\"data row31 col1\" >pip fruit</td>\n",
       "                        <td id=\"T_0b50a4ee_97a8_11ea_8271_9cb6d09181eerow31_col2\" class=\"data row31 col2\" >0.00559</td>\n",
       "                        <td id=\"T_0b50a4ee_97a8_11ea_8271_9cb6d09181eerow31_col3\" class=\"data row31 col3\" >0.60439</td>\n",
       "                        <td id=\"T_0b50a4ee_97a8_11ea_8271_9cb6d09181eerow31_col4\" class=\"data row31 col4\" >3.12525</td>\n",
       "            </tr>\n",
       "            <tr>\n",
       "                                <td id=\"T_0b50a4ee_97a8_11ea_8271_9cb6d09181eerow32_col0\" class=\"data row32 col0\" >pip fruit</td>\n",
       "                        <td id=\"T_0b50a4ee_97a8_11ea_8271_9cb6d09181eerow32_col1\" class=\"data row32 col1\" >root vegetables</td>\n",
       "                        <td id=\"T_0b50a4ee_97a8_11ea_8271_9cb6d09181eerow32_col2\" class=\"data row32 col2\" >0.00528</td>\n",
       "                        <td id=\"T_0b50a4ee_97a8_11ea_8271_9cb6d09181eerow32_col3\" class=\"data row32 col3\" >0.33986</td>\n",
       "                        <td id=\"T_0b50a4ee_97a8_11ea_8271_9cb6d09181eerow32_col4\" class=\"data row32 col4\" >3.24210</td>\n",
       "            </tr>\n",
       "            <tr>\n",
       "                                <td id=\"T_0b50a4ee_97a8_11ea_8271_9cb6d09181eerow33_col0\" class=\"data row33 col0\" >pip fruit</td>\n",
       "                        <td id=\"T_0b50a4ee_97a8_11ea_8271_9cb6d09181eerow33_col1\" class=\"data row33 col1\" >yogurt</td>\n",
       "                        <td id=\"T_0b50a4ee_97a8_11ea_8271_9cb6d09181eerow33_col2\" class=\"data row33 col2\" >0.00640</td>\n",
       "                        <td id=\"T_0b50a4ee_97a8_11ea_8271_9cb6d09181eerow33_col3\" class=\"data row33 col3\" >0.35593</td>\n",
       "                        <td id=\"T_0b50a4ee_97a8_11ea_8271_9cb6d09181eerow33_col4\" class=\"data row33 col4\" >3.39533</td>\n",
       "            </tr>\n",
       "            <tr>\n",
       "                                <td id=\"T_0b50a4ee_97a8_11ea_8271_9cb6d09181eerow34_col0\" class=\"data row34 col0\" >shopping bags</td>\n",
       "                        <td id=\"T_0b50a4ee_97a8_11ea_8271_9cb6d09181eerow34_col1\" class=\"data row34 col1\" >sausage</td>\n",
       "                        <td id=\"T_0b50a4ee_97a8_11ea_8271_9cb6d09181eerow34_col2\" class=\"data row34 col2\" >0.00599</td>\n",
       "                        <td id=\"T_0b50a4ee_97a8_11ea_8271_9cb6d09181eerow34_col3\" class=\"data row34 col3\" >0.30729</td>\n",
       "                        <td id=\"T_0b50a4ee_97a8_11ea_8271_9cb6d09181eerow34_col4\" class=\"data row34 col4\" >3.27433</td>\n",
       "            </tr>\n",
       "            <tr>\n",
       "                                <td id=\"T_0b50a4ee_97a8_11ea_8271_9cb6d09181eerow35_col0\" class=\"data row35 col0\" >whipped/sour cream</td>\n",
       "                        <td id=\"T_0b50a4ee_97a8_11ea_8271_9cb6d09181eerow35_col1\" class=\"data row35 col1\" >root vegetables</td>\n",
       "                        <td id=\"T_0b50a4ee_97a8_11ea_8271_9cb6d09181eerow35_col2\" class=\"data row35 col2\" >0.00630</td>\n",
       "                        <td id=\"T_0b50a4ee_97a8_11ea_8271_9cb6d09181eerow35_col3\" class=\"data row35 col3\" >0.24409</td>\n",
       "                        <td id=\"T_0b50a4ee_97a8_11ea_8271_9cb6d09181eerow35_col4\" class=\"data row35 col4\" >3.41004</td>\n",
       "            </tr>\n",
       "            <tr>\n",
       "                                <td id=\"T_0b50a4ee_97a8_11ea_8271_9cb6d09181eerow36_col0\" class=\"data row36 col0\" >sliced cheese</td>\n",
       "                        <td id=\"T_0b50a4ee_97a8_11ea_8271_9cb6d09181eerow36_col1\" class=\"data row36 col1\" >yogurt</td>\n",
       "                        <td id=\"T_0b50a4ee_97a8_11ea_8271_9cb6d09181eerow36_col2\" class=\"data row36 col2\" >0.00457</td>\n",
       "                        <td id=\"T_0b50a4ee_97a8_11ea_8271_9cb6d09181eerow36_col3\" class=\"data row36 col3\" >0.42452</td>\n",
       "                        <td id=\"T_0b50a4ee_97a8_11ea_8271_9cb6d09181eerow36_col4\" class=\"data row36 col4\" >3.04539</td>\n",
       "            </tr>\n",
       "            <tr>\n",
       "                                <td id=\"T_0b50a4ee_97a8_11ea_8271_9cb6d09181eerow37_col0\" class=\"data row37 col0\" >whipped/sour cream</td>\n",
       "                        <td id=\"T_0b50a4ee_97a8_11ea_8271_9cb6d09181eerow37_col1\" class=\"data row37 col1\" >yogurt</td>\n",
       "                        <td id=\"T_0b50a4ee_97a8_11ea_8271_9cb6d09181eerow37_col2\" class=\"data row37 col2\" >0.00610</td>\n",
       "                        <td id=\"T_0b50a4ee_97a8_11ea_8271_9cb6d09181eerow37_col3\" class=\"data row37 col3\" >0.44117</td>\n",
       "                        <td id=\"T_0b50a4ee_97a8_11ea_8271_9cb6d09181eerow37_col4\" class=\"data row37 col4\" >3.16482</td>\n",
       "            </tr>\n",
       "            <tr>\n",
       "                                <td id=\"T_0b50a4ee_97a8_11ea_8271_9cb6d09181eerow38_col0\" class=\"data row38 col0\" >pip fruit</td>\n",
       "                        <td id=\"T_0b50a4ee_97a8_11ea_8271_9cb6d09181eerow38_col1\" class=\"data row38 col1\" >other vegetables</td>\n",
       "                        <td id=\"T_0b50a4ee_97a8_11ea_8271_9cb6d09181eerow38_col2\" class=\"data row38 col2\" >0.00508</td>\n",
       "                        <td id=\"T_0b50a4ee_97a8_11ea_8271_9cb6d09181eerow38_col3\" class=\"data row38 col3\" >0.28248</td>\n",
       "                        <td id=\"T_0b50a4ee_97a8_11ea_8271_9cb6d09181eerow38_col4\" class=\"data row38 col4\" >3.77479</td>\n",
       "            </tr>\n",
       "            <tr>\n",
       "                                <td id=\"T_0b50a4ee_97a8_11ea_8271_9cb6d09181eerow39_col0\" class=\"data row39 col0\" >other vegetables</td>\n",
       "                        <td id=\"T_0b50a4ee_97a8_11ea_8271_9cb6d09181eerow39_col1\" class=\"data row39 col1\" >root vegetables</td>\n",
       "                        <td id=\"T_0b50a4ee_97a8_11ea_8271_9cb6d09181eerow39_col2\" class=\"data row39 col2\" >0.00782</td>\n",
       "                        <td id=\"T_0b50a4ee_97a8_11ea_8271_9cb6d09181eerow39_col3\" class=\"data row39 col3\" >0.30314</td>\n",
       "                        <td id=\"T_0b50a4ee_97a8_11ea_8271_9cb6d09181eerow39_col4\" class=\"data row39 col4\" >4.05091</td>\n",
       "            </tr>\n",
       "            <tr>\n",
       "                                <td id=\"T_0b50a4ee_97a8_11ea_8271_9cb6d09181eerow40_col0\" class=\"data row40 col0\" >other vegetables</td>\n",
       "                        <td id=\"T_0b50a4ee_97a8_11ea_8271_9cb6d09181eerow40_col1\" class=\"data row40 col1\" >yogurt</td>\n",
       "                        <td id=\"T_0b50a4ee_97a8_11ea_8271_9cb6d09181eerow40_col2\" class=\"data row40 col2\" >0.00762</td>\n",
       "                        <td id=\"T_0b50a4ee_97a8_11ea_8271_9cb6d09181eerow40_col3\" class=\"data row40 col3\" >0.21246</td>\n",
       "                        <td id=\"T_0b50a4ee_97a8_11ea_8271_9cb6d09181eerow40_col4\" class=\"data row40 col4\" >3.79235</td>\n",
       "            </tr>\n",
       "            <tr>\n",
       "                                <td id=\"T_0b50a4ee_97a8_11ea_8271_9cb6d09181eerow41_col0\" class=\"data row41 col0\" >whipped/sour cream</td>\n",
       "                        <td id=\"T_0b50a4ee_97a8_11ea_8271_9cb6d09181eerow41_col1\" class=\"data row41 col1\" >other vegetables</td>\n",
       "                        <td id=\"T_0b50a4ee_97a8_11ea_8271_9cb6d09181eerow41_col2\" class=\"data row41 col2\" >0.00559</td>\n",
       "                        <td id=\"T_0b50a4ee_97a8_11ea_8271_9cb6d09181eerow41_col3\" class=\"data row41 col3\" >0.26960</td>\n",
       "                        <td id=\"T_0b50a4ee_97a8_11ea_8271_9cb6d09181eerow41_col4\" class=\"data row41 col4\" >3.60270</td>\n",
       "            </tr>\n",
       "            <tr>\n",
       "                                <td id=\"T_0b50a4ee_97a8_11ea_8271_9cb6d09181eerow42_col0\" class=\"data row42 col0\" >yogurt</td>\n",
       "                        <td id=\"T_0b50a4ee_97a8_11ea_8271_9cb6d09181eerow42_col1\" class=\"data row42 col1\" >whole milk</td>\n",
       "                        <td id=\"T_0b50a4ee_97a8_11ea_8271_9cb6d09181eerow42_col2\" class=\"data row42 col2\" >0.00488</td>\n",
       "                        <td id=\"T_0b50a4ee_97a8_11ea_8271_9cb6d09181eerow42_col3\" class=\"data row42 col3\" >0.44444</td>\n",
       "                        <td id=\"T_0b50a4ee_97a8_11ea_8271_9cb6d09181eerow42_col4\" class=\"data row42 col4\" >3.18594</td>\n",
       "            </tr>\n",
       "            <tr>\n",
       "                                <td id=\"T_0b50a4ee_97a8_11ea_8271_9cb6d09181eerow43_col0\" class=\"data row43 col0\" >yogurt</td>\n",
       "                        <td id=\"T_0b50a4ee_97a8_11ea_8271_9cb6d09181eerow43_col1\" class=\"data row43 col1\" >root vegetables</td>\n",
       "                        <td id=\"T_0b50a4ee_97a8_11ea_8271_9cb6d09181eerow43_col2\" class=\"data row43 col2\" >0.00569</td>\n",
       "                        <td id=\"T_0b50a4ee_97a8_11ea_8271_9cb6d09181eerow43_col3\" class=\"data row43 col3\" >0.27053</td>\n",
       "                        <td id=\"T_0b50a4ee_97a8_11ea_8271_9cb6d09181eerow43_col4\" class=\"data row43 col4\" >4.82881</td>\n",
       "            </tr>\n",
       "            <tr>\n",
       "                                <td id=\"T_0b50a4ee_97a8_11ea_8271_9cb6d09181eerow44_col0\" class=\"data row44 col0\" >other vegetables</td>\n",
       "                        <td id=\"T_0b50a4ee_97a8_11ea_8271_9cb6d09181eerow44_col1\" class=\"data row44 col1\" >tropical fruit</td>\n",
       "                        <td id=\"T_0b50a4ee_97a8_11ea_8271_9cb6d09181eerow44_col2\" class=\"data row44 col2\" >0.00488</td>\n",
       "                        <td id=\"T_0b50a4ee_97a8_11ea_8271_9cb6d09181eerow44_col3\" class=\"data row44 col3\" >0.23188</td>\n",
       "                        <td id=\"T_0b50a4ee_97a8_11ea_8271_9cb6d09181eerow44_col4\" class=\"data row44 col4\" >5.35347</td>\n",
       "            </tr>\n",
       "            <tr>\n",
       "                                <td id=\"T_0b50a4ee_97a8_11ea_8271_9cb6d09181eerow45_col0\" class=\"data row45 col0\" >other vegetables</td>\n",
       "                        <td id=\"T_0b50a4ee_97a8_11ea_8271_9cb6d09181eerow45_col1\" class=\"data row45 col1\" >whole milk</td>\n",
       "                        <td id=\"T_0b50a4ee_97a8_11ea_8271_9cb6d09181eerow45_col2\" class=\"data row45 col2\" >0.00549</td>\n",
       "                        <td id=\"T_0b50a4ee_97a8_11ea_8271_9cb6d09181eerow45_col3\" class=\"data row45 col3\" >0.26470</td>\n",
       "                        <td id=\"T_0b50a4ee_97a8_11ea_8271_9cb6d09181eerow45_col4\" class=\"data row45 col4\" >3.54201</td>\n",
       "            </tr>\n",
       "            <tr>\n",
       "                                <td id=\"T_0b50a4ee_97a8_11ea_8271_9cb6d09181eerow46_col0\" class=\"data row46 col0\" >whole milk</td>\n",
       "                        <td id=\"T_0b50a4ee_97a8_11ea_8271_9cb6d09181eerow46_col1\" class=\"data row46 col1\" >tropical fruit</td>\n",
       "                        <td id=\"T_0b50a4ee_97a8_11ea_8271_9cb6d09181eerow46_col2\" class=\"data row46 col2\" >0.00559</td>\n",
       "                        <td id=\"T_0b50a4ee_97a8_11ea_8271_9cb6d09181eerow46_col3\" class=\"data row46 col3\" >0.26570</td>\n",
       "                        <td id=\"T_0b50a4ee_97a8_11ea_8271_9cb6d09181eerow46_col4\" class=\"data row46 col4\" >4.75120</td>\n",
       "            </tr>\n",
       "    </tbody></table>"
      ],
      "text/plain": [
       "<pandas.io.formats.style.Styler at 0x26ec09fa948>"
      ]
     },
     "execution_count": 9,
     "metadata": {},
     "output_type": "execute_result"
    }
   ],
   "source": [
    "results = []\n",
    "for item in association_results:\n",
    "    pair = item[0]\n",
    "    items = [x for x in pair if x != 'nan']\n",
    "    \n",
    "    value0 = str(items[0])\n",
    "    value1 = str(items[1])\n",
    "    \n",
    "    value2 = str(item[1])[:7]\n",
    "    \n",
    "    value3 = str(item[2][0][2])[:7]\n",
    "    value4 = str(item[2][0][3])[:7]\n",
    "    \n",
    "    rows = (value0,value1,value2,value3,value4)\n",
    "    results.append(rows)\n",
    "\n",
    "labels = ['Item 1','Item 2','Support','Confidence','Lift']\n",
    "item_suggestion = pd.DataFrame.from_records(results,columns = labels)\n",
    "pd.set_option('display.max_rows', item_suggestion.shape[0]+1)\n",
    "item_suggestion = item_suggestion.drop_duplicates(subset=['Item 1', 'Item 2'], keep='last')\n",
    "item_suggestion.style.hide_index()\n",
    "# item_suggestion"
   ]
  }
 ],
 "metadata": {
  "kernelspec": {
   "display_name": "Python 3",
   "language": "python",
   "name": "python3"
  },
  "language_info": {
   "codemirror_mode": {
    "name": "ipython",
    "version": 3
   },
   "file_extension": ".py",
   "mimetype": "text/x-python",
   "name": "python",
   "nbconvert_exporter": "python",
   "pygments_lexer": "ipython3",
   "version": "3.7.4"
  }
 },
 "nbformat": 4,
 "nbformat_minor": 2
}
